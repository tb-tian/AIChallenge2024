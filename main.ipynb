{
  "nbformat": 4,
  "nbformat_minor": 0,
  "metadata": {
    "colab": {
      "provenance": [],
      "authorship_tag": "ABX9TyOeq8s8oA76QVO3Ow/u5/Mp",
      "include_colab_link": true
    },
    "kernelspec": {
      "name": "python3",
      "display_name": "Python 3"
    },
    "language_info": {
      "name": "python"
    }
  },
  "cells": [
    {
      "cell_type": "markdown",
      "metadata": {
        "id": "view-in-github",
        "colab_type": "text"
      },
      "source": [
        "<a href=\"https://colab.research.google.com/github/tb-tian/AIChallenge2024/blob/main/main.ipynb\" target=\"_parent\"><img src=\"https://colab.research.google.com/assets/colab-badge.svg\" alt=\"Open In Colab\"/></a>"
      ]
    },
    {
      "cell_type": "code",
      "execution_count": null,
      "metadata": {
        "id": "OBpT0418IgXo"
      },
      "outputs": [],
      "source": [
        "from PIL import Image\n",
        "\n",
        "from vectordb import VectorDB"
      ]
    },
    {
      "cell_type": "code",
      "source": [
        "vecdb = VectorDB()\n",
        "query = input(\"Your query term: \")\n",
        "res = vecdb.search_text(query)\n",
        "\n",
        "for video, keyframe, similarity in res:\n",
        "    file_path = f\"./datasets/keyframes/{video}/{keyframe}.jpg\"\n",
        "    image = Image.open(file_path)\n",
        "    image.show()\n",
        "    print(f\"Video: {video}, Keyframe: {keyframe}, Similarity: {similarity}\")"
      ],
      "metadata": {
        "id": "em6_DV1RIj9v"
      },
      "execution_count": null,
      "outputs": []
    }
  ]
}